{
 "cells": [
  {
   "cell_type": "markdown",
   "metadata": {},
   "source": [
    "<p style=\"text-align: center\">\n",
    "<img src=\"../../assets/images/dtlogo.png\" alt=\"Duckietown\" width=\"50%\">\n",
    "</p>"
   ]
  },
  {
   "cell_type": "markdown",
   "metadata": {},
   "source": [
    "A *state* describes the condition of our robot at a specific time. This may include information about where the robot is, or other factors related to the environment that may affect the robot. When we develop a robotics algorithm, we are responsible to decide the information that we wish to include in the state. In other words, the definition of state depends on the task that we are trying to solve. Ideally, we want a state to exhibit the following properties:\n",
    "\n",
    "1. Markov property: future state is independent of the past given the present:\n",
    "\n",
    "\n",
    "$$x_{t+1} = f(x_t, x_{t-1}, \\dots, x_0; u_t, \\dots, u_0) = f(x_t; u_t)$$\n",
    "\n",
    "\n",
    "2. A minimally sufficient statistic for the task (i.e., it contains only the information that we need to solve the task)\n",
    "3. Permits efficient computation\n",
    "4. Generalizable\n",
    "\n",
    "An example of a state representation that is often used in robotics is the *pose*. A *pose* represents the location of the robot in the world as well as its orientation (i.e., what direction is the robot facing towards). Since we live in a 3-dimensional (3D) world, we represent the location of the robot as its $(x,y,z)$ coordinate in the world. We can represent orientation in terms of its roll, pitch, and yaw angles (also known as Euler angle representation). For example, the yaw angle $\\theta_{yaw}$ will be the angle difference between the longitudinal axis of the robot from the reference frame.\n",
    "\n",
    "<figure>\n",
    "  <div style=\"text-align:center;\">\n",
    "  <img src=\"../../assets/images/representations/roll_pitch_yaw.png\">\n",
    "  <p>Illustration of roll, pitch, and yaw (source: https://en.wikipedia.org/wiki/Aircraft_principal_axes).</p>\n",
    "  </div>\n",
    "</figure>\n",
    "\n",
    "Note that the location and the orientation of the robot can be defined either in the global coordinate frame (i.e., relative to where the origin is) or relative to any other coordinate frames. Combining location and orientation, we can write the pose $q$ in a vector/matrix form:\n",
    "\n",
    "$$\n",
    "q = \n",
    "\\begin{bmatrix}\n",
    "x & y & z & \\theta_{roll} & \\theta_{pitch} & \\theta_{yaw}\n",
    "\\end{bmatrix}\n",
    "$$\n",
    "\n",
    "The pose $q$ can also be represented in the form of a homogeneous transformation matrix, sinces poses are members of the Matrix Lie Group called the **S**pecial **E**uclidean group $SE(3)$:\n",
    "\n",
    "$$\n",
    "SE(3) = \\{T = \n",
    "\\begin{bmatrix}\n",
    "R & r \\\\\n",
    "0^T & 1\n",
    "\\end{bmatrix}\n",
    "\\in \\mathrm{R}^{4 \\times 4} | R \\in SO(3), r \\in \\mathrm{R}^{3}\n",
    "\\},\n",
    "$$\n",
    "\n",
    "where $R$ denotes the rotation matrix, and $r$ denotes the translation component. This matrix $T$ also has a nice property where \n",
    "\n",
    "$$\n",
    "T^{-1} = \n",
    "\\begin{bmatrix}\n",
    "R^T & -R^Tr \\\\\n",
    "0 & 1\n",
    "\\end{bmatrix}\n",
    "$$\n",
    "\n",
    "One of the reasons to represent the pose in this form is because it allows us to conveniently move between frames (see later in this activity). \n",
    "\n",
    "Although we have been discussing the pose in $SE(3)$, since we are using a mobile robot and we assume the world is flat, we can simplify the pose of our robot to only its $(x,y)$ coordinate and its yaw (or orientation) angle $\\theta$. This is because, in addition to the assumption that the robot is always located at a constant elevation, we can also safely assume roll and pitch angles to always be constant since the robot always touches the ground. So in this case, the pose is simply $\n",
    "q = \n",
    "\\begin{bmatrix}\n",
    "x & y & \\theta\n",
    "\\end{bmatrix}\n",
    "$, which we can also write in $SE(2)$:\n",
    "\n",
    "$$\n",
    "SE(2) = \\{T = \n",
    "\\begin{bmatrix}\n",
    "R & r \\\\\n",
    "0^T & 1\n",
    "\\end{bmatrix}\n",
    "\\in \\mathrm{R}^{3 \\times 3} | R \\in SO(2), r \\in \\mathrm{R}^{2}\n",
    "\\},\n",
    "$$\n",
    "\n",
    "where\n",
    "\n",
    "$$\n",
    "\\small\n",
    "R = \n",
    "\\begin{bmatrix}\n",
    "\\cos(\\theta) & -\\sin(\\theta) \\\\\n",
    "\\sin(\\theta) & \\cos(\\theta) \\\\\n",
    "\\end{bmatrix}\n",
    "\\ \\ \\ \\\n",
    "r = \n",
    "\\begin{bmatrix}\n",
    "x \\\\\n",
    "y \\\\\n",
    "\\end{bmatrix}\n",
    "$$\n",
    "\n",
    "So, we have:\n",
    "\n",
    "$$\n",
    "T = \n",
    "\\begin{bmatrix}\n",
    "\\cos(\\theta) & -\\sin(\\theta) & x \\\\\n",
    "\\sin(\\theta) & \\cos(\\theta) & y \\\\\n",
    "0 & 0 & 1\n",
    "\\end{bmatrix}\n",
    "$$\n",
    "\n",
    "Let's first make sure that we understand how to represent a pose by doing the exercise below."
   ]
  },
  {
   "cell_type": "markdown",
   "metadata": {},
   "source": [
    "**EXAMPLE: representing pose in $SE(n)$**\n",
    "\n",
    "<figure>\n",
    "  <div style=\"text-align:center;\">\n",
    "  <img src=\"../../assets/images/representations/pose_exercise.png\">\n",
    "  </div>\n",
    "</figure>\n",
    "\n",
    "**Question:**\n",
    "\n",
    "The figure above illustrates the location of the robot (the orange dot) and its orientation, where the angle is measured from the $x$-axis (assume the angle to have a positive measure if the rotation is counterclockwise). How do we write the pose in $SE(2)$?"
   ]
  },
  {
   "cell_type": "code",
   "execution_count": 1,
   "metadata": {},
   "outputs": [],
   "source": [
    "%matplotlib inline\n",
    "import numpy as np\n",
    "import matplotlib.pyplot as plt"
   ]
  },
  {
   "cell_type": "code",
   "execution_count": 2,
   "metadata": {},
   "outputs": [],
   "source": [
    "import numpy as np\n",
    "import matplotlib.pyplot as plt\n",
    "\n",
    "def plot_frame(T, ax=None, xlim=(0,3), ylim=(0,3), label=None):\n",
    "    # If no axis provided, create one\n",
    "    if ax is None:\n",
    "        fig, ax = plt.subplots(figsize=(6, 6))\n",
    "        \n",
    "        # Set plot limits\n",
    "        ax.set_xlim(*xlim)\n",
    "        ax.set_ylim(*ylim)\n",
    "        ax.axvline(0, color='grey',linewidth=0.8)\n",
    "        ax.axhline(0, color='grey',linewidth=0.8)\n",
    "        ax.grid(True)\n",
    "        ax.set_aspect('equal', adjustable='box')\n",
    "\n",
    "    origin_homog = np.array([0, 0, 1])\n",
    "    x_axis_homog = np.array([1, 0, 1])\n",
    "    y_axis_homog = np.array([0, 1, 1])\n",
    "\n",
    "    origin_transformed = T @ origin_homog\n",
    "    x_axis_transformed = T @ x_axis_homog\n",
    "    y_axis_transformed = T @ y_axis_homog\n",
    "\n",
    "    ax.scatter(*origin_transformed[:2], c='red', marker='o', s=100)\n",
    "    \n",
    "    ax.quiver(*origin_transformed[:2], *(x_axis_transformed[:2] - origin_transformed[:2]), angles='xy', scale_units='xy', scale=1, color='red', label=label)\n",
    "    ax.quiver(*origin_transformed[:2], *(y_axis_transformed[:2] - origin_transformed[:2]), angles='xy', scale_units='xy', scale=1, color='blue')\n",
    "    \n",
    "    return ax\n",
    "\n",
    "def plot_points(points, ax=None, color='purple', marker='x', label=None):\n",
    "    if ax is None:\n",
    "        fig, ax = plt.subplots(figsize=(6, 6))\n",
    "        \n",
    "        ax.axvline(0, color='grey',linewidth=0.8)\n",
    "        ax.axhline(0, color='grey',linewidth=0.8)\n",
    "        ax.grid(True)\n",
    "        ax.set_aspect('equal', adjustable='box')\n",
    "    \n",
    "    # Convert points to 2D if they are in homogeneous coordinates\n",
    "    if points.shape[-1] == 3:\n",
    "        points = points[:, :2] / points[:, 2:3]\n",
    "\n",
    "    ax.scatter(points[:, 0], points[:, 1], c=color, marker=marker, label=label)\n",
    "    \n",
    "    return ax\n"
   ]
  },
  {
   "cell_type": "code",
   "execution_count": 3,
   "metadata": {},
   "outputs": [
    {
     "name": "stdout",
     "output_type": "stream",
     "text": [
      "1.0471975511965976\n",
      "[[ 0.5       -0.8660254  2.       ]\n",
      " [ 0.8660254  0.5        3.       ]\n",
      " [ 0.         0.         1.       ]]\n"
     ]
    }
   ],
   "source": [
    "# Type your answer here\n",
    "# Tip 1: always express your angles in radians!\n",
    "# Tip 2: you can go from degrees to radians through the np.deg2rad() function\n",
    "\n",
    "theta = np.deg2rad(60)\n",
    "\n",
    "p = np.array([\n",
    "    [np.cos(theta), -np.sin(theta), 2],\n",
    "    [np.sin(theta), np.cos(theta), 3],\n",
    "    [0, 0, 1]\n",
    "])\n",
    "\n",
    "print(theta)\n",
    "print(p)"
   ]
  },
  {
   "cell_type": "markdown",
   "metadata": {},
   "source": [
    "(You can find the solutions to this and other questions in the [solutions file](../01-Representations/solutions_pose_representation.ipynb) in this folder. Give it a honest shot yourself before peeking!) "
   ]
  },
  {
   "cell_type": "markdown",
   "metadata": {},
   "source": [
    "# II: Moving between frames"
   ]
  },
  {
   "cell_type": "markdown",
   "metadata": {},
   "source": [
    "It is often useful to convert a pose from one frame to another one, since we may have multiple coordinate frames used in the description of the same problem. Common examples are robot pose with respect to robot or world frame, or pose of an obtacle with respect to the sensor that perceives it or the robot frame. \n",
    "\n",
    "As mentioned in the previous section, representing the pose in $SE(n)$ allows us to conveniently move between frames. We can do this by multiplying these transformation matrices together. For example, consider two different poses $a$ and $b$. If we know the pose $a$ in the origin frame $o$ (i.e., $p^o_a$) and the pose $b$ in the frame of $a$ (i.e., $p^a_b$), we can then compute the pose $b$ relative to the origin frame $o$ using the following relation:\n",
    "\n",
    "$$p^o_b = p^o_a \\cdot p^a_b,$$\n",
    "\n",
    "where $p^o_b$, $p^o_a$, and $p^a_b$ are represented in $SE(n)$. Similarly, if we are given $p^a_o$ and $p^o_b$, we can compute $p^a_b$ via:\n",
    "\n",
    "$$p^a_b = p^a_o \\cdot p^o_b$$\n",
    "\n",
    "Generally, we can combine these transformations together like the following:\n",
    "\n",
    "$$p^a_f = p^a_b \\cdot p^b_c \\cdot p^c_d \\cdot p^d_e \\cdot p^e_f$$\n",
    "\n",
    "In addition, another handy relation to know is that $p^a_b = (p^b_a)^{-1}$. \n",
    "\n",
    "Let's now take a look at some examples."
   ]
  },
  {
   "cell_type": "markdown",
   "metadata": {},
   "source": [
    "**EXAMPLE: moving between frames (from robot frame to global frame)**\n",
    "\n",
    "Your Duckiebot is on a critical recognition mission: identify and place road obstacles on the map. \n",
    "\n",
    "During its mission, your Duckiebot has GPS support, and it knows its own position in the global (map) frame. It encounters its first obstacle at position $x = 2$ m and $y = 0.4$ m, and orientation $\\theta$ = 110 degrees. The obstacle itself is at 30cm at 50 degrees (counter-clockwise) from the Duckiebot. Where is the location of the obstacle in the map (i.e., global) frame?\n",
    "\n",
    "<figure>\n",
    "  <div style=\"text-align:center;\">\n",
    "  <img src=\"../../assets/images/representations/moving_frame_exercise_1.png\">\n",
    "  <p>The orange and blue dots represent the robot and the obstacle, respectively. Determine the position of the blue dot in the global frame given the pose of the Duckiebot in the global from and that of the obstacle with respect to the Duckiebot's frame.</p>\n",
    "  </div>\n",
    "</figure>\n",
    "\n",
    "<!-- We denote our origin frame as $o$, ... as $a$, and ... as $b$. -->\n",
    "\n",
    "<!-- Compute $p^o_a$ and $p^b_a$, and use them to compute $p^a_b$.  -->"
   ]
  },
  {
   "cell_type": "code",
   "execution_count": 4,
   "metadata": {},
   "outputs": [],
   "source": [
    "np.set_printoptions(precision=3)\n",
    "np.set_printoptions(suppress=True)\n",
    "\n",
    "# Run this cell to initialize the problem\n",
    "# Tip: be consistent with your units - meters and radians are great choices\n",
    "# Fact: humans understand degrees better than radians. To avoid confusion, input and output degrees, but do calculations in radians\n",
    "\n",
    "duckie_pos_g = np.array([2, 0.4])   # Position of Duckiebot in map/global frame (in meters)\n",
    "duckie_or_g = 110                   # Orientation of Duckiebot in map/global frame (in degrees)\n",
    "obstacle_dist_to_duckie = 0.3       # Obstacle distance to the Duckiebot\n",
    "obstacle_angle = 50                 # Obstacle angle with respect to Duckiebot (in degrees)"
   ]
  },
  {
   "cell_type": "code",
   "execution_count": 5,
   "metadata": {},
   "outputs": [
    {
     "name": "stdout",
     "output_type": "stream",
     "text": [
      "[1.718 0.503]\n"
     ]
    },
    {
     "data": {
      "image/png": "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",
      "text/plain": [
       "<Figure size 600x600 with 1 Axes>"
      ]
     },
     "metadata": {},
     "output_type": "display_data"
    }
   ],
   "source": [
    "# Let's find the answer!\n",
    "\n",
    "def get_matrix(angle, position):\n",
    "    c = np.cos(angle)\n",
    "    s = np.sin(angle)\n",
    "    return np.array([\n",
    "        [c, -s, position[0]],\n",
    "        [s, c, position[1]],\n",
    "        [0,0,1]\n",
    "    ])\n",
    "\n",
    "origin_to_duck = get_matrix(np.deg2rad(duckie_or_g), duckie_pos_g)\n",
    "\n",
    "obstacle_position_from_duck = np.array([\n",
    "        np.sin(np.deg2rad(obstacle_angle)),\n",
    "        np.cos(np.deg2rad(obstacle_angle))\n",
    "    ])\n",
    "\n",
    "# Step 3. Transformation matrix from Duckiebot (a) to obstacle (b)\n",
    "c = np.cos(np.deg2rad(obstacle_angle))\n",
    "s = np.sin(np.deg2rad(obstacle_angle))\n",
    "duck_to_obstacle = np.array([\n",
    "    [c, -s, c*obstacle_dist_to_duckie],\n",
    "    [s, c,  s*obstacle_dist_to_duckie],\n",
    "    [0,0,1]\n",
    "])\n",
    "\n",
    "# Step 4. Use the above to compute the transformation from obstacle (b) to origin (o)\n",
    "\n",
    "origin_to_obstacle = origin_to_duck @ duck_to_obstacle\n",
    "\n",
    "obstacle_position = (origin_to_obstacle @ np.array([0,0,1]))[:2]\n",
    " \n",
    "print(obstacle_position)\n",
    "\n",
    "ax = plot_frame(origin_to_duck)\n",
    "#plot_frame(origin_to_obstacle, ax=ax)\n",
    "plot_frame(origin_to_obstacle, ax=ax)\n",
    "#plot_frame(translate_sanity, ax=ax)\n",
    "plt.show()"
   ]
  },
  {
   "cell_type": "markdown",
   "metadata": {},
   "source": [
    "Correct result: [1.71809221 0.50260604]"
   ]
  },
  {
   "cell_type": "markdown",
   "metadata": {},
   "source": [
    "**EXAMPLE: moving between frames (from global frame to robot frame)**\n",
    "\n",
    "A very concerned duckiecitizen reaches out to you: \n",
    "\n",
    "\"The sky is falling on our heads!\" \n",
    "\n",
    "A sizeable fragment of the citizen neighbour's roof fell on the road. You are told it is positioned at $x = 4$ m and $y = -1$ m (in the global reference frame).\n",
    "\n",
    "This is valuable information, but before making it official by adding it to the map, it needs to be verified. You have a nearby Duckiebot, at $x = 3.5$ m, $y = -1.2$ m, oriented at $\\theta = 45$ degrees, that will be tasked to reach the roof fragment. \n",
    "\n",
    "What are the coordinates of the obstacle described by the concerned citizen with respect to the Duckiebot's reference frame?\n",
    "\n",
    "<figure>\n",
    "  <div style=\"text-align:center;\">\n",
    "  <img src=\"../../assets/images/representations/moving_frame_exercise_2.png\">\n",
    "  <p>The orange and blue dots represent the robot and the obstacle, respectively. Determine the position of the blue dot in the robot frame.</p>\n",
    "  </div>\n",
    "</figure>"
   ]
  },
  {
   "cell_type": "code",
   "execution_count": 6,
   "metadata": {},
   "outputs": [],
   "source": [
    "### Run this cell to initialize the problem\n",
    "# Tip: remember to be consistent with your units\n",
    "\n",
    "duckie_pos_g = np.array([3.5, -1.2])   # Position of Duckiebot in global frame (meters)\n",
    "duckie_or_g = 45                       # Orientation of Duckiebot in global frame (degrees)\n",
    "obstacle_pos_g = np.array([4, -1])     # Position of obstacle in global frame (meters)"
   ]
  },
  {
   "cell_type": "code",
   "execution_count": 8,
   "metadata": {},
   "outputs": [
    {
     "name": "stdout",
     "output_type": "stream",
     "text": [
      "[ 0.495 -0.212]\n"
     ]
    }
   ],
   "source": [
    "# Let's send the Duckiebot to the correct place!\n",
    "\n",
    "# Convert degrees to radians\n",
    "\n",
    "# Write the transformation matrix from origin (o) to the duckie (a)\n",
    "origin_to_duck = get_matrix(np.deg2rad(duckie_or_g), duckie_pos_g)\n",
    "\n",
    "# Write the transformation matrix from origin (o) to the obstacle (b)\n",
    "origin_to_obstacle = get_matrix(0, obstacle_pos_g)\n",
    "\n",
    "# Leverage the known properties of transformation matrices and basics of linear algebra to find your answer\n",
    "duck_to_origin = np.linalg.inv(origin_to_duck) # could do this better since we know it's homogenous\n",
    "duck_to_obstacle = duck_to_origin @ origin_to_obstacle\n",
    "\n",
    "# Extract the obstacle position from the transformation matrix\n",
    "obstacle_position_from_duck = (duck_to_obstacle @ np.array([0,0,1]))[:2]\n",
    "\n",
    "print(obstacle_position_from_duck)"
    "obstacle_x_a = None\n",
    "obstacle_y_a = None\n",
    "\n",
    "# Place your answer here instead of None, None (position of obstacle in robot frame)\n",
    "obstacle_pos_r = np.array([obstacle_x_a, obstacle_y_a])    \n",
    "print(obstacle_pos_r)"
   ]
  },
  {
   "cell_type": "markdown",
   "metadata": {},
   "source": [
    "Correct result: [ 0.49497475 -0.21213203]"
   ]
  },
  {
   "cell_type": "markdown",
   "metadata": {},
   "source": [
    "You can now proceed to the [wheel calibration tutorial](../02-Wheel-Calibration/wheels_calibration.ipynb). "
   ]
  },
  {
   "cell_type": "markdown",
   "metadata": {},
   "source": [
    "_Credit: [Rey Reza Wiyatno](https://github.com/rrwiyatn)_"
   ]
  }
 ],
 "metadata": {
  "kernelspec": {
   "display_name": "Python 3.8.10 64-bit",
   "language": "python",
   "name": "python3"
  },
  "language_info": {
   "codemirror_mode": {
    "name": "ipython",
    "version": 3
   },
   "file_extension": ".py",
   "mimetype": "text/x-python",
   "name": "python",
   "nbconvert_exporter": "python",
   "pygments_lexer": "ipython3",
   "version": "3.8.10"
  },
  "vscode": {
   "interpreter": {
    "hash": "916dbcbb3f70747c44a77c7bcd40155683ae19c65e1c03b4aa3499c5328201f1"
   }
  }
 },
 "nbformat": 4,
 "nbformat_minor": 4
}
